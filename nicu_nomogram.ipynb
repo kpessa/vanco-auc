{
 "cells": [
  {
   "cell_type": "code",
   "execution_count": 19,
   "metadata": {},
   "outputs": [],
   "source": [
    "import pandas as pd\n",
    "import matplotlib.pyplot as plt"
   ]
  },
  {
   "cell_type": "code",
   "execution_count": 3,
   "metadata": {},
   "outputs": [
    {
     "data": {
      "text/plain": [
       "1.3333333333333333"
      ]
     },
     "execution_count": 3,
     "metadata": {},
     "output_type": "execute_result"
    }
   ],
   "source": [
    "(24/18)"
   ]
  },
  {
   "cell_type": "code",
   "execution_count": 18,
   "metadata": {},
   "outputs": [
    {
     "data": {
      "text/html": [
       "<div>\n",
       "<style scoped>\n",
       "    .dataframe tbody tr th:only-of-type {\n",
       "        vertical-align: middle;\n",
       "    }\n",
       "\n",
       "    .dataframe tbody tr th {\n",
       "        vertical-align: top;\n",
       "    }\n",
       "\n",
       "    .dataframe thead th {\n",
       "        text-align: right;\n",
       "    }\n",
       "</style>\n",
       "<table border=\"1\" class=\"dataframe\">\n",
       "  <thead>\n",
       "    <tr style=\"text-align: right;\">\n",
       "      <th></th>\n",
       "      <th>Dosing/Frequency</th>\n",
       "      <th>Total Daily Dose (per kg)</th>\n",
       "    </tr>\n",
       "  </thead>\n",
       "  <tbody>\n",
       "    <tr>\n",
       "      <th>0</th>\n",
       "      <td>20 mg/kg q18h</td>\n",
       "      <td>26.7 mg/kg/day</td>\n",
       "    </tr>\n",
       "    <tr>\n",
       "      <th>1</th>\n",
       "      <td>12 mg/kg q12h</td>\n",
       "      <td>24.0 mg/kg/day</td>\n",
       "    </tr>\n",
       "    <tr>\n",
       "      <th>2</th>\n",
       "      <td>16 mg/kg q12h</td>\n",
       "      <td>32.0 mg/kg/day</td>\n",
       "    </tr>\n",
       "    <tr>\n",
       "      <th>3</th>\n",
       "      <td>12 mg/kg q8h</td>\n",
       "      <td>36.0 mg/kg/day</td>\n",
       "    </tr>\n",
       "    <tr>\n",
       "      <th>4</th>\n",
       "      <td>15 mg/kg q8h</td>\n",
       "      <td>45.0 mg/kg/day</td>\n",
       "    </tr>\n",
       "    <tr>\n",
       "      <th>5</th>\n",
       "      <td>12 mg/kg q6h</td>\n",
       "      <td>48.0 mg/kg/day</td>\n",
       "    </tr>\n",
       "    <tr>\n",
       "      <th>6</th>\n",
       "      <td>15 mg/kg q6h</td>\n",
       "      <td>60.0 mg/kg/day</td>\n",
       "    </tr>\n",
       "    <tr>\n",
       "      <th>7</th>\n",
       "      <td>20 mg/kg q6h</td>\n",
       "      <td>80.0 mg/kg/day</td>\n",
       "    </tr>\n",
       "  </tbody>\n",
       "</table>\n",
       "</div>"
      ],
      "text/plain": [
       "  Dosing/Frequency Total Daily Dose (per kg)\n",
       "0    20 mg/kg q18h            26.7 mg/kg/day\n",
       "1    12 mg/kg q12h            24.0 mg/kg/day\n",
       "2    16 mg/kg q12h            32.0 mg/kg/day\n",
       "3     12 mg/kg q8h            36.0 mg/kg/day\n",
       "4     15 mg/kg q8h            45.0 mg/kg/day\n",
       "5     12 mg/kg q6h            48.0 mg/kg/day\n",
       "6     15 mg/kg q6h            60.0 mg/kg/day\n",
       "7     20 mg/kg q6h            80.0 mg/kg/day"
      ]
     },
     "execution_count": 18,
     "metadata": {},
     "output_type": "execute_result"
    }
   ],
   "source": [
    "pd.DataFrame ({\n",
    "    'Dosing/Frequency': [\"20 mg/kg q18h\",\"12 mg/kg q12h\", \"16 mg/kg q12h\", \"12 mg/kg q8h\", \"15 mg/kg q8h\", \"12 mg/kg q6h\", \"15 mg/kg q6h\", \"20 mg/kg q6h\"],\n",
    "    'Total Daily Dose (per kg)': [f\"{n:.1f} mg/kg/day\" for n in [20 * (24/18), 12 * (24/12), 16 * (24/12), 12 * (24/8), 15 * (24/8), 12 * (24/6), 15 * (24/6), 20 * (24/6)]]\n",
    "})"
   ]
  },
  {
   "cell_type": "code",
   "execution_count": 38,
   "metadata": {},
   "outputs": [
    {
     "data": {
      "text/plain": [
       "Text(0, 0.5, 'daily dose')"
      ]
     },
     "execution_count": 38,
     "metadata": {},
     "output_type": "execute_result"
    },
    {
     "data": {
      "image/png": "[encoded data removed]",
      "text/plain": [
       "<Figure size 432x288 with 1 Axes>"
      ]
     },
     "metadata": {
      "needs_background": "light"
     },
     "output_type": "display_data"
    }
   ],
   "source": [
    "plt.plot([\"20 mg/kg q18h\",\"12 mg/kg q12h\", \"16 mg/kg q12h\", \"12 mg/kg q8h\", \"15 mg/kg q8h\", \"12 mg/kg q6h\", \"15 mg/kg q6h\", \"20 mg/kg q6h\"], [20 * (24/18), 12 * (24/12), 16 * (24/12), 12 * (24/8), 15 * (24/8), 12 * (24/6), 15 * (24/6), 20 * (24/6)])\n",
    "plt.hlines(36,0,7,'r')\n",
    "plt.xlabel(\"dosing\")\n",
    "plt.xticks(rotation=45)\n",
    "\n",
    "plt.ylabel('daily dose')"
   ]
  },
  {
   "cell_type": "code",
   "execution_count": null,
   "metadata": {},
   "outputs": [],
   "source": []
  }
 ],
 "metadata": {
  "kernelspec": {
   "display_name": "Python 3.6.10 64-bit ('PythonData': conda)",
   "language": "python",
   "name": "python361064bitpythondataconda13c33e7d00474160b8916212f83fb86d"
  },
  "language_info": {
   "codemirror_mode": {
    "name": "ipython",
    "version": 3
   },
   "file_extension": ".py",
   "mimetype": "text/x-python",
   "name": "python",
   "nbconvert_exporter": "python",
   "pygments_lexer": "ipython3",
   "version": "3.6.11"
  }
 },
 "nbformat": 4,
 "nbformat_minor": 4
}
